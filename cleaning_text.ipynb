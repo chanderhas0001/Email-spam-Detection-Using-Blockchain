{
 "cells": [
  {
   "cell_type": "code",
   "execution_count": 4,
   "id": "2a3dfaf5-8dd9-4a4c-8938-129192e5a994",
   "metadata": {},
   "outputs": [
    {
     "name": "stderr",
     "output_type": "stream",
     "text": [
      "[nltk_data] Downloading package punkt to\n",
      "[nltk_data]     C:\\Users\\Dell\\AppData\\Roaming\\nltk_data...\n",
      "[nltk_data]   Package punkt is already up-to-date!\n",
      "[nltk_data] Downloading package stopwords to\n",
      "[nltk_data]     C:\\Users\\Dell\\AppData\\Roaming\\nltk_data...\n",
      "[nltk_data]   Package stopwords is already up-to-date!\n",
      "[nltk_data] Downloading package wordnet to\n",
      "[nltk_data]     C:\\Users\\Dell\\AppData\\Roaming\\nltk_data...\n",
      "[nltk_data]   Package wordnet is already up-to-date!\n"
     ]
    },
    {
     "name": "stdout",
     "output_type": "stream",
     "text": [
      "✅ Cleaned data saved to 'cleaned_data.csv'\n"
     ]
    }
   ],
   "source": [
    "# Step 1: Import Libraries\n",
    "import pandas as pd\n",
    "import re\n",
    "import nltk\n",
    "from nltk.corpus import stopwords\n",
    "from nltk.stem import WordNetLemmatizer\n",
    "from nltk.tokenize import word_tokenize\n",
    "\n",
    "# Step 2: Download NLTK Resources\n",
    "nltk.download('punkt')\n",
    "nltk.download('stopwords')\n",
    "nltk.download('wordnet')\n",
    "\n",
    "# Step 3: Initialize Tools\n",
    "lemmatizer = WordNetLemmatizer()\n",
    "stop_words = set(stopwords.words('english'))\n",
    "\n",
    "# Step 4: Cleaning Functions\n",
    "def clean_text(text):\n",
    "    \"\"\"Clean and normalize input text.\"\"\"\n",
    "    text = str(text).lower()  # Convert to lowercase\n",
    "    text = re.sub(r'<.*?>', '', text)  # Remove HTML tags\n",
    "    text = re.sub(r'http\\S+|www\\S+|https\\S+', '', text)  # Remove URLs\n",
    "    text = re.sub(r'[^a-z\\s]', '', text)  # Remove special characters\n",
    "    text = re.sub(r'\\s+', ' ', text).strip()  # Normalize whitespace\n",
    "    return text\n",
    "\n",
    "def tokenize_text(text):\n",
    "    \"\"\"Tokenize, remove stopwords, and lemmatize.\"\"\"\n",
    "    words = word_tokenize(text)\n",
    "    return [lemmatizer.lemmatize(word) for word in words if word not in stop_words]\n",
    "\n",
    "def preprocess_email(text):\n",
    "    \"\"\"Full preprocessing pipeline: clean, tokenize, lemmatize.\"\"\"\n",
    "    return ' '.join(tokenize_text(clean_text(text)))\n",
    "\n",
    "# Step 5: Load Dataset\n",
    "df = pd.read_csv(\"C:/Users/Dell/Desktop/PROJECTS/Email-spam-Detection-Using-Blockchain/archive1/emails.csv\")\n",
    "\n",
    "# Step 6: Ensure Columns Are Named Correctly\n",
    "df.columns = df.columns.str.strip().str.lower()\n",
    "assert 'text' in df.columns, \"Dataset must have a 'text' column.\"\n",
    "\n",
    "# Step 7: Clean Text Data\n",
    "df['text'] = df['text'].fillna('')\n",
    "df['processed_email'] = df['text'].apply(preprocess_email)\n",
    "df = df[df['processed_email'].str.strip() != '']  # Remove empty results\n",
    "\n",
    "# Step 8: Save to File\n",
    "df.to_csv('cleaned_data.csv', index=False)\n",
    "print(\"✅ Cleaned data saved to 'cleaned_data.csv'\")\n"
   ]
  },
  {
   "cell_type": "code",
   "execution_count": null,
   "id": "101c3170-287e-4847-8a15-38f130027e89",
   "metadata": {},
   "outputs": [],
   "source": []
  }
 ],
 "metadata": {
  "kernelspec": {
   "display_name": "Python [conda env:base] *",
   "language": "python",
   "name": "conda-base-py"
  },
  "language_info": {
   "codemirror_mode": {
    "name": "ipython",
    "version": 3
   },
   "file_extension": ".py",
   "mimetype": "text/x-python",
   "name": "python",
   "nbconvert_exporter": "python",
   "pygments_lexer": "ipython3",
   "version": "3.12.7"
  }
 },
 "nbformat": 4,
 "nbformat_minor": 5
}
