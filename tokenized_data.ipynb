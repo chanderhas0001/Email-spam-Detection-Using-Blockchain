{
 "cells": [
  {
   "cell_type": "code",
   "execution_count": 2,
   "id": "a94017c9-e0d0-4b43-9091-053d65ae4aa2",
   "metadata": {},
   "outputs": [
    {
     "name": "stderr",
     "output_type": "stream",
     "text": [
      "[nltk_data] Downloading package punkt to\n",
      "[nltk_data]     C:\\Users\\Dell\\AppData\\Roaming\\nltk_data...\n",
      "[nltk_data]   Package punkt is already up-to-date!\n",
      "[nltk_data] Downloading package stopwords to\n",
      "[nltk_data]     C:\\Users\\Dell\\AppData\\Roaming\\nltk_data...\n",
      "[nltk_data]   Package stopwords is already up-to-date!\n",
      "[nltk_data] Downloading package wordnet to\n",
      "[nltk_data]     C:\\Users\\Dell\\AppData\\Roaming\\nltk_data...\n",
      "[nltk_data]   Package wordnet is already up-to-date!\n"
     ]
    },
    {
     "name": "stdout",
     "output_type": "stream",
     "text": [
      "                                                text  \\\n",
      "0  Subject: naturally irresistible your corporate...   \n",
      "1  Subject: the stock trading gunslinger  fanny i...   \n",
      "2  Subject: unbelievable new homes made easy  im ...   \n",
      "3  Subject: 4 color printing special  request add...   \n",
      "4  Subject: do not have money , get software cds ...   \n",
      "\n",
      "                                              tokens  \n",
      "0  [subject, naturally, irresistible, corporate, ...  \n",
      "1  [subject, stock, trading, gunslinger, fanny, m...  \n",
      "2  [subject, unbelievable, new, home, made, easy,...  \n",
      "3  [subject, color, printing, special, request, a...  \n",
      "4  [subject, money, get, software, cd, software, ...  \n",
      "✅ Tokenized and cleaned data saved to 'tokenized_cleaned_data.csv'\n"
     ]
    }
   ],
   "source": [
    "import pandas as pd\n",
    "import nltk\n",
    "from nltk.corpus import stopwords\n",
    "from nltk.stem import WordNetLemmatizer\n",
    "from nltk.tokenize import word_tokenize\n",
    "import re\n",
    "\n",
    "# Download required resources\n",
    "nltk.download('punkt')\n",
    "nltk.download('stopwords')\n",
    "nltk.download('wordnet')\n",
    "\n",
    "# Initialize tools\n",
    "stop_words = set(stopwords.words('english'))\n",
    "lemmatizer = WordNetLemmatizer()\n",
    "\n",
    "# Define text cleaning and normalization\n",
    "def clean_text(text):\n",
    "    text = str(text).lower()\n",
    "    text = re.sub(r'<.*?>', '', text)\n",
    "    text = re.sub(r'http\\S+|www\\S+|https\\S+', '', text)\n",
    "    text = re.sub(r'[^a-z\\s]', '', text)\n",
    "    text = re.sub(r'\\s+', ' ', text).strip()\n",
    "    return text\n",
    "\n",
    "def tokenize_and_normalize(text):\n",
    "    words = word_tokenize(text)\n",
    "    return [lemmatizer.lemmatize(word) for word in words if word not in stop_words]\n",
    "\n",
    "# Load dataset\n",
    "df = pd.read_csv(\"C:/Users/Dell/Desktop/PROJECTS/Email-spam-Detection-Using-Blockchain/archive1/emails.csv\")\n",
    "\n",
    "# Ensure correct column\n",
    "df.columns = df.columns.str.strip().str.lower()\n",
    "assert 'text' in df.columns, \"Dataset must have a 'text' column.\"\n",
    "\n",
    "# Clean and tokenize the text\n",
    "df['text'] = df['text'].fillna('')\n",
    "df['tokens'] = df['text'].apply(lambda x: tokenize_and_normalize(clean_text(x)))\n",
    "\n",
    "# Show sample\n",
    "print(df[['text', 'tokens']].head())\n",
    "\n",
    "# Optionally save to file\n",
    "df.to_csv(\"tokenized_cleaned_data.csv\", index=False)\n",
    "print(\"✅ Tokenized and cleaned data saved to 'tokenized_cleaned_data.csv'\")\n"
   ]
  },
  {
   "cell_type": "code",
   "execution_count": null,
   "id": "49c3815a-daa9-4721-ba70-6c2b7af9f686",
   "metadata": {},
   "outputs": [],
   "source": []
  }
 ],
 "metadata": {
  "kernelspec": {
   "display_name": "Python [conda env:base] *",
   "language": "python",
   "name": "conda-base-py"
  },
  "language_info": {
   "codemirror_mode": {
    "name": "ipython",
    "version": 3
   },
   "file_extension": ".py",
   "mimetype": "text/x-python",
   "name": "python",
   "nbconvert_exporter": "python",
   "pygments_lexer": "ipython3",
   "version": "3.12.7"
  }
 },
 "nbformat": 4,
 "nbformat_minor": 5
}
