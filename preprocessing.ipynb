{
 "cells": [
  {
   "cell_type": "code",
   "execution_count": 2,
   "id": "6e935e07-c95a-4866-9b13-10a1a9805b63",
   "metadata": {},
   "outputs": [
    {
     "name": "stderr",
     "output_type": "stream",
     "text": [
      "[nltk_data] Downloading package punkt to\n",
      "[nltk_data]     C:\\Users\\Dell\\AppData\\Roaming\\nltk_data...\n",
      "[nltk_data]   Package punkt is already up-to-date!\n",
      "[nltk_data] Downloading package stopwords to\n",
      "[nltk_data]     C:\\Users\\Dell\\AppData\\Roaming\\nltk_data...\n",
      "[nltk_data]   Package stopwords is already up-to-date!\n",
      "[nltk_data] Downloading package wordnet to\n",
      "[nltk_data]     C:\\Users\\Dell\\AppData\\Roaming\\nltk_data...\n",
      "[nltk_data]   Package wordnet is already up-to-date!\n"
     ]
    },
    {
     "name": "stdout",
     "output_type": "stream",
     "text": [
      "✅ Cleaned data saved to 'cleaned_data.csv'\n",
      "✅ TF-IDF features extracted.\n",
      "Feature matrix shape: (5728, 5000)\n"
     ]
    }
   ],
   "source": [
    "# Step 1: Import Libraries\n",
    "import pandas as pd\n",
    "import re\n",
    "import nltk\n",
    "from nltk.corpus import stopwords\n",
    "from nltk.stem import WordNetLemmatizer\n",
    "from nltk.tokenize import word_tokenize\n",
    "from sklearn.feature_extraction.text import TfidfVectorizer\n",
    "\n",
    "# Step 2: Download Required NLTK Resources\n",
    "nltk.download('punkt')\n",
    "nltk.download('stopwords')\n",
    "nltk.download('wordnet')\n",
    "\n",
    "# Step 3: Initialize Tools\n",
    "stop_words = set(stopwords.words('english'))\n",
    "lemmatizer = WordNetLemmatizer()\n",
    "\n",
    "# Step 4: Define Preprocessing Functions\n",
    "def clean_text(text):\n",
    "    text = str(text).lower()\n",
    "    text = re.sub(r'<.*?>', '', text)\n",
    "    text = re.sub(r'http\\S+|www\\S+|https\\S+', '', text)\n",
    "    text = re.sub(r'[^a-z\\s]', '', text)\n",
    "    text = re.sub(r'\\s+', ' ', text).strip()\n",
    "    return text\n",
    "\n",
    "def tokenize_and_normalize(text):\n",
    "    words = word_tokenize(text)\n",
    "    return [lemmatizer.lemmatize(word) for word in words if word not in stop_words]\n",
    "\n",
    "def preprocess_email(text):\n",
    "    return ' '.join(tokenize_and_normalize(clean_text(text)))\n",
    "\n",
    "# Step 5: Load Dataset\n",
    "df = pd.read_csv(\"C:/Users/Dell/Desktop/PROJECTS/Email-spam-Detection-Using-Blockchain/archive1/emails.csv\")\n",
    "df.columns = df.columns.str.strip().str.lower()\n",
    "\n",
    "# Ensure required columns exist\n",
    "assert 'text' in df.columns and 'spam' in df.columns, \"Dataset must contain 'text' and 'spam' columns.\"\n",
    "\n",
    "# Step 6: Apply Preprocessing\n",
    "df['text'] = df['text'].fillna('')\n",
    "df['processed_email'] = df['text'].apply(preprocess_email)\n",
    "\n",
    "# Step 7: Remove Empty Entries\n",
    "df = df[df['processed_email'].str.strip() != '']\n",
    "\n",
    "# Step 8: Save Cleaned Data\n",
    "df.to_csv('cleaned_data.csv', index=False)\n",
    "print(\"✅ Cleaned data saved to 'cleaned_data.csv'\")\n",
    "\n",
    "# Step 9: Feature Extraction using TF-IDF\n",
    "tfidf_vectorizer = TfidfVectorizer(max_features=5000)\n",
    "X = tfidf_vectorizer.fit_transform(df['processed_email']).toarray()\n",
    "y = df['spam']\n",
    "\n",
    "print(\"✅ TF-IDF features extracted.\")\n",
    "print(\"Feature matrix shape:\", X.shape)\n"
   ]
  },
  {
   "cell_type": "code",
   "execution_count": null,
   "id": "1c22d782-05e3-4bf2-a429-006593d405c2",
   "metadata": {},
   "outputs": [],
   "source": []
  }
 ],
 "metadata": {
  "kernelspec": {
   "display_name": "Python [conda env:base] *",
   "language": "python",
   "name": "conda-base-py"
  },
  "language_info": {
   "codemirror_mode": {
    "name": "ipython",
    "version": 3
   },
   "file_extension": ".py",
   "mimetype": "text/x-python",
   "name": "python",
   "nbconvert_exporter": "python",
   "pygments_lexer": "ipython3",
   "version": "3.12.7"
  }
 },
 "nbformat": 4,
 "nbformat_minor": 5
}
