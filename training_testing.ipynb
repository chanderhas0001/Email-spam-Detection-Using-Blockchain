{
 "cells": [
  {
   "cell_type": "code",
   "execution_count": 6,
   "id": "c2ba7c2d-3014-4c51-9211-ae56ffe84ae7",
   "metadata": {},
   "outputs": [
    {
     "name": "stdout",
     "output_type": "stream",
     "text": [
      "✅ Accuracy: 0.9834\n",
      "\n",
      "📋 Classification Report:\n",
      "               precision    recall  f1-score   support\n",
      "\n",
      "           0       0.98      1.00      0.99       872\n",
      "           1       0.99      0.94      0.96       274\n",
      "\n",
      "    accuracy                           0.98      1146\n",
      "   macro avg       0.99      0.97      0.98      1146\n",
      "weighted avg       0.98      0.98      0.98      1146\n",
      "\n",
      "\n",
      "🧮 Confusion Matrix:\n",
      " [[869   3]\n",
      " [ 16 258]]\n"
     ]
    }
   ],
   "source": [
    "# Step 1: Import Necessary Libraries\n",
    "import pandas as pd\n",
    "from sklearn.model_selection import train_test_split\n",
    "from sklearn.linear_model import LogisticRegression\n",
    "from sklearn.metrics import accuracy_score, classification_report, confusion_matrix\n",
    "from sklearn.feature_extraction.text import TfidfVectorizer\n",
    "\n",
    "# Step 2: Load the Cleaned Data\n",
    "df = pd.read_csv(\"C:/Users/Dell/Desktop/PROJECTS/Email-spam-Detection-Using-Blockchain/tokenized_cleaned_data.csv\")  # Ensure this is the path to your cleaned data CSV\n",
    "\n",
    "# Ensure required columns exist\n",
    "assert 'text' in df.columns and 'spam' in df.columns, \"Dataset must contain 'processed_email' and 'spam' columns.\"\n",
    "\n",
    "# Step 3: Feature Extraction using TF-IDF\n",
    "tfidf_vectorizer = TfidfVectorizer(max_features=5000)\n",
    "X = tfidf_vectorizer.fit_transform(df['text']).toarray()  # TF-IDF Features\n",
    "y = df['spam']  # Target Labels (spam: 1, not spam: 0)\n",
    "\n",
    "# Step 4: Train-Test Split (80% Train, 20% Test)\n",
    "X_train, X_test, y_train, y_test = train_test_split(X, y, test_size=0.2, random_state=42, stratify=y)\n",
    "\n",
    "# Step 5: Train Logistic Regression Model\n",
    "model = LogisticRegression(max_iter=1000)  # Logistic Regression\n",
    "model.fit(X_train, y_train)  # Fit model to training data\n",
    "\n",
    "# Step 6: Predict and Evaluate Model on Test Data\n",
    "y_pred = model.predict(X_test)  # Predictions on the test set\n",
    "\n",
    "# Step 7: Evaluation Metrics\n",
    "print(f\"✅ Accuracy: {accuracy_score(y_test, y_pred):.4f}\")\n",
    "print(\"\\n📋 Classification Report:\\n\", classification_report(y_test, y_pred))\n",
    "print(\"\\n🧮 Confusion Matrix:\\n\", confusion_matrix(y_test, y_pred))\n"
   ]
  },
  {
   "cell_type": "code",
   "execution_count": null,
   "id": "6d9baedb-58d8-407d-a235-d1afe685f821",
   "metadata": {},
   "outputs": [],
   "source": []
  }
 ],
 "metadata": {
  "kernelspec": {
   "display_name": "Python [conda env:base] *",
   "language": "python",
   "name": "conda-base-py"
  },
  "language_info": {
   "codemirror_mode": {
    "name": "ipython",
    "version": 3
   },
   "file_extension": ".py",
   "mimetype": "text/x-python",
   "name": "python",
   "nbconvert_exporter": "python",
   "pygments_lexer": "ipython3",
   "version": "3.12.7"
  }
 },
 "nbformat": 4,
 "nbformat_minor": 5
}
